{
  "cells": [
    {
      "cell_type": "markdown",
      "metadata": {
        "id": "view-in-github",
        "colab_type": "text"
      },
      "source": [
        "<a href=\"https://colab.research.google.com/github/0Pixel0/Numpy-Tutorial/blob/main/numpy.ipynb\" target=\"_parent\"><img src=\"https://colab.research.google.com/assets/colab-badge.svg\" alt=\"Open In Colab\"/></a>"
      ]
    },
    {
      "cell_type": "code",
      "execution_count": 1,
      "metadata": {
        "id": "g13Ue1IPW46y"
      },
      "outputs": [],
      "source": [
        "import numpy as np"
      ],
      "id": "g13Ue1IPW46y"
    },
    {
      "cell_type": "markdown",
      "source": [
        "*An array is a grid of values and it contains information about the raw data, how to locate an element, and how to interpret an element. It has a grid of elements that can be indexed in various ways. The elements are all of the same type, referred to as the array dtype.*\n",
        "\n"
      ],
      "metadata": {
        "id": "yKzBGteaYYLT"
      },
      "id": "yKzBGteaYYLT"
    },
    {
      "cell_type": "code",
      "source": [
        "a=np.array([1,2,3,4,5]);\n",
        "print(a);"
      ],
      "metadata": {
        "colab": {
          "base_uri": "https://localhost:8080/"
        },
        "id": "mmagZmOeYeMF",
        "outputId": "a2d29265-3818-4be5-9cec-62b125d8c7cf"
      },
      "id": "mmagZmOeYeMF",
      "execution_count": 2,
      "outputs": [
        {
          "output_type": "stream",
          "name": "stdout",
          "text": [
            "[1 2 3 4 5]\n"
          ]
        }
      ]
    },
    {
      "cell_type": "markdown",
      "source": [
        "**array has axes for 2d it has 2 axes.**"
      ],
      "metadata": {
        "id": "VSPs29HVZIs7"
      },
      "id": "VSPs29HVZIs7"
    },
    {
      "cell_type": "code",
      "source": [
        "a=np.zeros(2);\n",
        "\n",
        "a=np.ones(2);\n",
        "\n",
        "#create an empty array\n",
        "a=np.empty(2);\n",
        "print(a);\n",
        "\n",
        "#create with range\n",
        "a1=np.arange(4);\n",
        "a2=np.arange(2,8,2);#start,end,jump\n",
        "print(a1,a2);"
      ],
      "metadata": {
        "id": "rYDgvPE4Zlzt",
        "outputId": "b1f363f7-3bcd-4ed8-ff4b-fd01c268e586",
        "colab": {
          "base_uri": "https://localhost:8080/"
        }
      },
      "id": "rYDgvPE4Zlzt",
      "execution_count": 3,
      "outputs": [
        {
          "output_type": "stream",
          "name": "stdout",
          "text": [
            "[0. 0.]\n",
            "[0 1 2 3] [2 4 6]\n"
          ]
        }
      ]
    },
    {
      "cell_type": "code",
      "source": [
        "#use linspace\n",
        "a=np.linspace(0,10,6);\n",
        "# give a linearly seperated array -start,end,size.\n",
        "a"
      ],
      "metadata": {
        "colab": {
          "base_uri": "https://localhost:8080/"
        },
        "id": "r73PDIHObVnn",
        "outputId": "932bb872-9fb5-4e6c-ebe4-c0b70a01f538"
      },
      "id": "r73PDIHObVnn",
      "execution_count": 4,
      "outputs": [
        {
          "output_type": "execute_result",
          "data": {
            "text/plain": [
              "array([ 0.,  2.,  4.,  6.,  8., 10.])"
            ]
          },
          "metadata": {},
          "execution_count": 4
        }
      ]
    },
    {
      "cell_type": "code",
      "source": [
        "# dtype\n",
        "a=np.ones(2,dtype=np.bool_);\n",
        "# bool_,str_,int32,int64,complex_,......\n",
        "a"
      ],
      "metadata": {
        "colab": {
          "base_uri": "https://localhost:8080/"
        },
        "id": "cuKp8WZJbtb0",
        "outputId": "6850597f-7a68-40cd-df66-9bbc6dba14db"
      },
      "id": "cuKp8WZJbtb0",
      "execution_count": 5,
      "outputs": [
        {
          "output_type": "execute_result",
          "data": {
            "text/plain": [
              "array([ True,  True])"
            ]
          },
          "metadata": {},
          "execution_count": 5
        }
      ]
    },
    {
      "cell_type": "code",
      "source": [
        "a=np.random.rand(2,4);\n",
        "# random generation\n",
        "a"
      ],
      "metadata": {
        "colab": {
          "base_uri": "https://localhost:8080/"
        },
        "id": "8YvMfwAIdgA3",
        "outputId": "ca1801a5-b281-4415-880b-d15c46230666"
      },
      "id": "8YvMfwAIdgA3",
      "execution_count": 6,
      "outputs": [
        {
          "output_type": "execute_result",
          "data": {
            "text/plain": [
              "array([[0.76217738, 0.58509237, 0.32243984, 0.48338654],\n",
              "       [0.50802843, 0.70774689, 0.4108995 , 0.33514966]])"
            ]
          },
          "metadata": {},
          "execution_count": 6
        }
      ]
    },
    {
      "cell_type": "code",
      "source": [
        "a=np.array([4,2,1]);\n",
        "a=np.sort(a);\n",
        "print(a);\n",
        "\n",
        "# concatenate.\n",
        "a=np.array([[1,2,3]]);\n",
        "b=np.array([[0,9,4]]);\n",
        "c=np.concatenate((a,b));#needs double bracket.\n",
        "d=np.concatenate((a,b),axis=1);#concatenates along the axis 1\n",
        "print(d);\n",
        "print(c);"
      ],
      "metadata": {
        "colab": {
          "base_uri": "https://localhost:8080/"
        },
        "id": "LFpPpMC-pSB-",
        "outputId": "5f43d5f5-d67b-4fcf-d5d4-601b6cc4ac4f"
      },
      "id": "LFpPpMC-pSB-",
      "execution_count": 7,
      "outputs": [
        {
          "output_type": "stream",
          "name": "stdout",
          "text": [
            "[1 2 4]\n",
            "[[1 2 3 0 9 4]]\n",
            "[[1 2 3]\n",
            " [0 9 4]]\n"
          ]
        }
      ]
    },
    {
      "cell_type": "code",
      "source": [
        "a=np.array([[1,2,3],[4,5,6]]);\n",
        "a.ndim#gives the dimension of the array.\n",
        "\n",
        "a.size#gives the total elements in the np array\n",
        "\n",
        "a.shape#description about the dimensions."
      ],
      "metadata": {
        "colab": {
          "base_uri": "https://localhost:8080/"
        },
        "id": "bbtkvS7FqjyZ",
        "outputId": "dc68b0b5-6111-412d-a24c-9478e72b1c11"
      },
      "id": "bbtkvS7FqjyZ",
      "execution_count": 8,
      "outputs": [
        {
          "output_type": "execute_result",
          "data": {
            "text/plain": [
              "(2, 3)"
            ]
          },
          "metadata": {},
          "execution_count": 8
        }
      ]
    },
    {
      "cell_type": "code",
      "source": [
        "#reshape\n",
        "a=np.arange(1,7);\n",
        "a=a.reshape((2,3));\n",
        "a"
      ],
      "metadata": {
        "colab": {
          "base_uri": "https://localhost:8080/"
        },
        "id": "cPOu7I5DuhEm",
        "outputId": "0a0176e9-3e67-4aac-a53d-d64842e8bcd2"
      },
      "id": "cPOu7I5DuhEm",
      "execution_count": 9,
      "outputs": [
        {
          "output_type": "execute_result",
          "data": {
            "text/plain": [
              "array([[1, 2, 3],\n",
              "       [4, 5, 6]])"
            ]
          },
          "metadata": {},
          "execution_count": 9
        }
      ]
    },
    {
      "cell_type": "code",
      "source": [
        "a=np.arange(1,10);\n",
        "print(a[1:]);#example of slicing\n",
        "print(a[-2:]);\n",
        "\n",
        "#satisfying a specific condition\n",
        "c=((a>3) & (a%2==0));#for perfect working use brackets for both conditions\n",
        "print(a[c]);\n"
      ],
      "metadata": {
        "id": "sgztQF1pC8Ea",
        "colab": {
          "base_uri": "https://localhost:8080/"
        },
        "outputId": "6a0173a2-a538-4a44-8a1f-6a3b5b692878"
      },
      "id": "sgztQF1pC8Ea",
      "execution_count": 21,
      "outputs": [
        {
          "output_type": "stream",
          "name": "stdout",
          "text": [
            "[2 3 4 5 6 7 8 9]\n",
            "[8 9]\n",
            "[4 6 8]\n"
          ]
        }
      ]
    },
    {
      "cell_type": "code",
      "source": [
        "a=np.arange(1,21).reshape(4,5);\n",
        "print(a);\n",
        "#hsplit use to split the array equally.\n",
        "print(np.hsplit(a,5));"
      ],
      "metadata": {
        "colab": {
          "base_uri": "https://localhost:8080/"
        },
        "id": "pJMr7GohHeBv",
        "outputId": "d45e7e62-8f65-4270-f024-aecedae69788"
      },
      "id": "pJMr7GohHeBv",
      "execution_count": 25,
      "outputs": [
        {
          "output_type": "stream",
          "name": "stdout",
          "text": [
            "[[ 1  2  3  4  5]\n",
            " [ 6  7  8  9 10]\n",
            " [11 12 13 14 15]\n",
            " [16 17 18 19 20]]\n",
            "[array([[ 1],\n",
            "       [ 6],\n",
            "       [11],\n",
            "       [16]]), array([[ 2],\n",
            "       [ 7],\n",
            "       [12],\n",
            "       [17]]), array([[ 3],\n",
            "       [ 8],\n",
            "       [13],\n",
            "       [18]]), array([[ 4],\n",
            "       [ 9],\n",
            "       [14],\n",
            "       [19]]), array([[ 5],\n",
            "       [10],\n",
            "       [15],\n",
            "       [20]])]\n"
          ]
        }
      ]
    },
    {
      "cell_type": "markdown",
      "source": [
        "#Basic operations on array\n"
      ],
      "metadata": {
        "id": "u7o6m-RwImjc"
      },
      "id": "u7o6m-RwImjc"
    },
    {
      "cell_type": "code",
      "source": [
        "#add\n",
        "a=np.ones((2,3));\n",
        "b=np.arange(1,7).reshape(2,3);\n",
        "# print(a+b);#just use the +,same goes for -,*,/.\n",
        "\n",
        "\n",
        "# for sum of elements in np arr\n",
        "print(b.sum());\n",
        "print(b.sum(axis=0));#col\n",
        "print(b.sum(axis=1));#row"
      ],
      "metadata": {
        "colab": {
          "base_uri": "https://localhost:8080/"
        },
        "id": "gOwbDtsJIrYQ",
        "outputId": "bfaee5bb-00a9-4874-a613-bb3beea7206e"
      },
      "id": "gOwbDtsJIrYQ",
      "execution_count": 32,
      "outputs": [
        {
          "output_type": "stream",
          "name": "stdout",
          "text": [
            "21\n",
            "[5 7 9]\n",
            "[ 6 15]\n"
          ]
        }
      ]
    },
    {
      "cell_type": "markdown",
      "source": [
        "# operations b/w scaler and vector a.k.a broadcasting"
      ],
      "metadata": {
        "id": "PmBa9YM3J98Z"
      },
      "id": "PmBa9YM3J98Z"
    },
    {
      "cell_type": "code",
      "source": [
        "a=np.array([2.9,1.5]);\n",
        "print(a*1.2);"
      ],
      "metadata": {
        "colab": {
          "base_uri": "https://localhost:8080/"
        },
        "id": "o3KgmDYFKKTu",
        "outputId": "f28d9dc7-327b-4a39-fd2d-b2d968d97184"
      },
      "id": "o3KgmDYFKKTu",
      "execution_count": 33,
      "outputs": [
        {
          "output_type": "stream",
          "name": "stdout",
          "text": [
            "[3.48 1.8 ]\n"
          ]
        }
      ]
    },
    {
      "cell_type": "markdown",
      "source": [
        "---\n",
        "*NumPy also performs aggregation functions. In addition to min, max, and sum, you can easily run mean to get the average, prod to get the result of multiplying the elements together, std to get the standard deviation, and more.*\n",
        "\n",
        "---\n",
        "\n"
      ],
      "metadata": {
        "id": "C6DqZsWuKajp"
      },
      "id": "C6DqZsWuKajp"
    },
    {
      "cell_type": "code",
      "source": [
        "print(a.min());\n",
        "print(a.max());\n",
        "print(a.mean());\n",
        "print(a.std());\n",
        "#can also specify axis."
      ],
      "metadata": {
        "colab": {
          "base_uri": "https://localhost:8080/"
        },
        "id": "2a8rzjqRKict",
        "outputId": "faca9112-df63-4c65-f87c-5313f6cb0278"
      },
      "id": "2a8rzjqRKict",
      "execution_count": 37,
      "outputs": [
        {
          "output_type": "stream",
          "name": "stdout",
          "text": [
            "1.5\n",
            "2.9\n",
            "2.2\n",
            "0.7\n"
          ]
        }
      ]
    },
    {
      "cell_type": "markdown",
      "source": [
        "**Random**"
      ],
      "metadata": {
        "id": "u15zqDEYNucf"
      },
      "id": "u15zqDEYNucf"
    },
    {
      "cell_type": "code",
      "source": [
        "#either use np.random.normal\n",
        "rng=np.random.default_rng();\n",
        "a=rng.integers(2,5,size=(2,3));\n",
        "print(a);"
      ],
      "metadata": {
        "colab": {
          "base_uri": "https://localhost:8080/"
        },
        "id": "L-csFrYwNzpC",
        "outputId": "b2a752a4-4937-42e4-ee10-310aa3fc43b4"
      },
      "id": "L-csFrYwNzpC",
      "execution_count": 48,
      "outputs": [
        {
          "output_type": "stream",
          "name": "stdout",
          "text": [
            "[[3 2 4]\n",
            " [2 3 3]]\n",
            "3\n"
          ]
        }
      ]
    },
    {
      "cell_type": "markdown",
      "source": [
        "**Unique values,indices,count**"
      ],
      "metadata": {
        "id": "-klQEAOLQ-e9"
      },
      "id": "-klQEAOLQ-e9"
    },
    {
      "cell_type": "code",
      "source": [
        "a=np.random.default_rng().integers(2,8,size=(1,5));\n",
        "print(a);\n",
        "print(np.unique(a));\n",
        "print(np.unique(a,return_index=True,return_counts=True));\n"
      ],
      "metadata": {
        "colab": {
          "base_uri": "https://localhost:8080/"
        },
        "id": "WCvQ0xuhRH7Y",
        "outputId": "141a5a3f-fdb2-4ac6-f4c5-f7b047e8cb98"
      },
      "id": "WCvQ0xuhRH7Y",
      "execution_count": 54,
      "outputs": [
        {
          "output_type": "stream",
          "name": "stdout",
          "text": [
            "[[3 7 4 5 7]]\n",
            "[3 4 5 7]\n",
            "(array([3, 4, 5, 7]), array([0, 2, 3, 1]), array([1, 1, 1, 2]))\n"
          ]
        }
      ]
    },
    {
      "cell_type": "markdown",
      "source": [
        "**transpose**"
      ],
      "metadata": {
        "id": "0BC3cbiQWbmO"
      },
      "id": "0BC3cbiQWbmO"
    },
    {
      "cell_type": "code",
      "source": [
        "a=np.arange(1,9).reshape(2,4);\n",
        "a=a.T\n",
        "print(a)"
      ],
      "metadata": {
        "colab": {
          "base_uri": "https://localhost:8080/"
        },
        "id": "Em7Vyte7Wh9Q",
        "outputId": "5776734a-c6a0-49dc-a25a-c4576a1217d4"
      },
      "id": "Em7Vyte7Wh9Q",
      "execution_count": 56,
      "outputs": [
        {
          "output_type": "stream",
          "name": "stdout",
          "text": [
            "[[1 5]\n",
            " [2 6]\n",
            " [3 7]\n",
            " [4 8]]\n"
          ]
        }
      ]
    },
    {
      "cell_type": "markdown",
      "source": [
        "flipping /reversing contents\n"
      ],
      "metadata": {
        "id": "zpV0CO5NXRy3"
      },
      "id": "zpV0CO5NXRy3"
    },
    {
      "cell_type": "code",
      "source": [
        "a=np.arange(1,10);\n",
        "a=np.flip(a);\n",
        "print(a);\n",
        "a=np.flip(a);\n",
        "a=a.reshape((3,3))\n",
        "# print(a);\n",
        "a=np.flip(a,axis=1);\n",
        "print(a);"
      ],
      "metadata": {
        "colab": {
          "base_uri": "https://localhost:8080/"
        },
        "id": "hMVKhCKkXUrC",
        "outputId": "58bdf954-0416-4e18-c56f-1515356a2898"
      },
      "id": "hMVKhCKkXUrC",
      "execution_count": 64,
      "outputs": [
        {
          "output_type": "stream",
          "name": "stdout",
          "text": [
            "[9 8 7 6 5 4 3 2 1]\n",
            "[[3 2 1]\n",
            " [6 5 4]\n",
            " [9 8 7]]\n"
          ]
        }
      ]
    },
    {
      "cell_type": "code",
      "source": [
        "#flatten\n",
        "a=np.arange(1,10).reshape(3,3);\n",
        "b=a.flatten();\n",
        "print(a);\n",
        "print(b);"
      ],
      "metadata": {
        "colab": {
          "base_uri": "https://localhost:8080/"
        },
        "id": "rrfylU_paaxJ",
        "outputId": "dd5b6991-94b5-4490-dc5d-762a52b98a21"
      },
      "id": "rrfylU_paaxJ",
      "execution_count": 67,
      "outputs": [
        {
          "output_type": "stream",
          "name": "stdout",
          "text": [
            "[[1 2 3]\n",
            " [4 5 6]\n",
            " [7 8 9]]\n",
            "[1 2 3 4 5 6 7 8 9]\n"
          ]
        }
      ]
    },
    {
      "cell_type": "markdown",
      "source": [
        "# MATH"
      ],
      "metadata": {
        "id": "tOmfes60bIlL"
      },
      "id": "tOmfes60bIlL"
    },
    {
      "cell_type": "code",
      "source": [
        "#rmse\n",
        "a=np.random.default_rng().integers(1,9,size=(1,5));\n",
        "b=np.random.default_rng().integers(1,9,size=(1,5));\n",
        "\n",
        "print(\"a:\",a);\n",
        "print(\"b:\",b);\n",
        "\n",
        "n=a.size;\n",
        "err=(1/n)*np.sum(np.square(a-b));\n",
        "err"
      ],
      "metadata": {
        "colab": {
          "base_uri": "https://localhost:8080/"
        },
        "id": "UdZBRKGpbLlF",
        "outputId": "bc4926e5-3fc9-47c4-b64c-5c6586dae0d2"
      },
      "id": "UdZBRKGpbLlF",
      "execution_count": 73,
      "outputs": [
        {
          "output_type": "stream",
          "name": "stdout",
          "text": [
            "a: [[2 2 7 4 5]]\n",
            "b: [[1 6 4 5 2]]\n"
          ]
        },
        {
          "output_type": "execute_result",
          "data": {
            "text/plain": [
              "7.2"
            ]
          },
          "metadata": {},
          "execution_count": 73
        }
      ]
    },
    {
      "cell_type": "markdown",
      "source": [
        "*Further topics to read about:*\n",
        "* dtypes\n",
        "* more methods to create np arrays\n",
        "* saving np arrays\n",
        "* broadcasting"
      ],
      "metadata": {
        "id": "uUak1WD6e9lL"
      },
      "id": "uUak1WD6e9lL"
    }
  ],
  "metadata": {
    "kernelspec": {
      "display_name": "Python 3.10.4 64-bit",
      "language": "python",
      "name": "python3"
    },
    "language_info": {
      "codemirror_mode": {
        "name": "ipython",
        "version": 3
      },
      "file_extension": ".py",
      "mimetype": "text/x-python",
      "name": "python",
      "nbconvert_exporter": "python",
      "pygments_lexer": "ipython3",
      "version": "3.10.4"
    },
    "vscode": {
      "interpreter": {
        "hash": "aee8b7b246df8f9039afb4144a1f6fd8d2ca17a180786b69acc140d282b71a49"
      }
    },
    "colab": {
      "name": "numpy.ipynb",
      "provenance": [],
      "include_colab_link": true
    }
  },
  "nbformat": 4,
  "nbformat_minor": 5
}